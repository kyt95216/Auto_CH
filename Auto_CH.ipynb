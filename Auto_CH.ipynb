{
 "cells": [
  {
   "cell_type": "code",
   "execution_count": 1,
   "metadata": {},
   "outputs": [],
   "source": [
    "import pandas as pd"
   ]
  },
  {
   "cell_type": "code",
   "execution_count": 2,
   "metadata": {
    "scrolled": true
   },
   "outputs": [],
   "source": [
    "def call_csv(filename):#filename = 'test.csv'\n",
    "    df = pd.read_csv(filename,encoding='ISO-8859-1')\n",
    "    df = df.drop(df.columns[[0]],axis = 1)[85:240]\n",
    "    first_nan_number = pd.isnull(df).any(1).nonzero()[0][0]\n",
    "    df = df[0:first_nan_number]\n",
    "    df.columns = [\"Comp_name\",\"RT[min]\",\"RI\",\"Vol%\",\"Area\",\"Mass%\",\"DHA Type\",\"DHA_Carbon_No\"]\n",
    "    df['RT[min]'] = df['RT[min]'].astype('float32')\n",
    "    df['RI'] = df['RI'].astype('float32')\n",
    "    df['Vol%'] = df['Vol%'].astype('float32')\n",
    "    df['Area'] = df['Area'].astype('float32')\n",
    "    df['Mass%'] = df['Mass%'].astype('float32')\n",
    "    df['DHA_Carbon_No'] = df['DHA_Carbon_No'].astype('int8')\n",
    "    return df"
   ]
  },
  {
   "cell_type": "code",
   "execution_count": 3,
   "metadata": {},
   "outputs": [],
   "source": [
    "def data_collection(df):\n",
    "    IP = df[df['DHA Type'].isin(['i-Paraffins'])]\n",
    "    A = df[df['DHA Type'].isin(['Aromatics'])]\n",
    "    N = df[df['DHA Type'].isin(['Naphtenes'])]\n",
    "    O = df[df['DHA Type'].isin(['Olefins'])]\n",
    "    #NP = df[df['DHA Type'].isin(['n-Paraffins'])]\n",
    "    NP = df.loc[df['DHA Type'].str.contains('n-Paraffins') & (df['DHA_Carbon_No']>0),:]\n",
    "    UN = df.loc[df['DHA Type'].str.contains('n-Paraffins') & (df['DHA_Carbon_No']==0),:]\n",
    "    return IP, A, N, O, NP, UN"
   ]
  },
  {
   "cell_type": "code",
   "execution_count": 4,
   "metadata": {
    "scrolled": false
   },
   "outputs": [
    {
     "data": {
      "text/plain": [
       "True"
      ]
     },
     "execution_count": 4,
     "metadata": {},
     "output_type": "execute_result"
    }
   ],
   "source": [
    "df = call_csv('test.csv')\n",
    "IP, A, N, O, NP, UN = data_collection(df)\n",
    "len(IP)+len(A)+len(N)+len(O)+len(NP)+len(UN) == len(df)"
   ]
  }
 ],
 "metadata": {
  "kernelspec": {
   "display_name": "Python 3",
   "language": "python",
   "name": "python3"
  },
  "language_info": {
   "codemirror_mode": {
    "name": "ipython",
    "version": 3
   },
   "file_extension": ".py",
   "mimetype": "text/x-python",
   "name": "python",
   "nbconvert_exporter": "python",
   "pygments_lexer": "ipython3",
   "version": "3.5.0"
  }
 },
 "nbformat": 4,
 "nbformat_minor": 2
}
