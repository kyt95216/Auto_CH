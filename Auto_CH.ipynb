{
 "cells": [
  {
   "cell_type": "code",
   "execution_count": 1,
   "metadata": {},
   "outputs": [],
   "source": [
    "import pandas as pd\n",
    "import matplotlib.pyplot as plt\n",
    "import numpy as np"
   ]
  },
  {
   "cell_type": "code",
   "execution_count": 2,
   "metadata": {},
   "outputs": [],
   "source": [
    "def call_csv(filename):#filename = 'test.csv'\n",
    "    df = pd.read_csv(filename,encoding='ISO-8859-1')\n",
    "    df = df.drop(df.columns[[0]],axis = 1)[85:240]\n",
    "    first_nan_number = pd.isnull(df).any(1).nonzero()[0][0]\n",
    "    df = df[0:first_nan_number]\n",
    "    df.columns = [\"Comp_name\",\"RT[min]\",\"RI\",\"Vol%\",\"Area\",\"Mass%\",\"DHA Type\",\"DHA_Carbon_No\"]\n",
    "    df['RT[min]'] = df['RT[min]'].astype('float32')\n",
    "    df['RI'] = df['RI'].astype('float32')\n",
    "    df['Vol%'] = df['Vol%'].astype('float32')\n",
    "    df['Area'] = df['Area'].astype('float32')\n",
    "    df['Mass%'] = df['Mass%'].astype('float32')\n",
    "    df['DHA_Carbon_No'] = df['DHA_Carbon_No'].astype('int8')\n",
    "    return df"
   ]
  },
  {
   "cell_type": "code",
   "execution_count": 3,
   "metadata": {},
   "outputs": [],
   "source": [
    "def call_data(df):\n",
    "    IP = df[df['DHA Type'].isin(['i-Paraffins'])]\n",
    "    A = df[df['DHA Type'].isin(['Aromatics'])]\n",
    "    N = df[df['DHA Type'].isin(['Naphtenes'])]\n",
    "    O = df[df['DHA Type'].isin(['Olefins'])]\n",
    "    #NP = df[df['DHA Type'].isin(['n-Paraffins'])]\n",
    "    NP = df.loc[df['DHA Type'].str.contains('n-Paraffins') & (df['DHA_Carbon_No']>0),:]\n",
    "    UN = df.loc[df['DHA Type'].str.contains('n-Paraffins') & (df['DHA_Carbon_No']==0),:]\n",
    "    return IP, A, N, O, NP, UN"
   ]
  },
  {
   "cell_type": "code",
   "execution_count": 4,
   "metadata": {},
   "outputs": [],
   "source": [
    "def call_graph(df):\n",
    "    plt.style.use('ggplot')\n",
    "    plot_data1 = df['Vol%']/df['Mass%']\n",
    "    fig = plt.figure()\n",
    "    ax1 = fig.add_subplot(1,1,1)\n",
    "    ax1.plot(plot_data1, marker = r'o', color = u'blue', linestyle = '-', label = 'Blue Solid')\n",
    "    ax1.xaxis.set_ticks_position('bottom')\n",
    "    ax1.yaxis.set_ticks_position('left')\n",
    "    ax1.set_title('Line Plots')\n",
    "    plt.xlabel('')"
   ]
  },
  {
   "cell_type": "code",
   "execution_count": 13,
   "metadata": {},
   "outputs": [],
   "source": [
    "def call_polyfit(df):\n",
    "    x = np.array(df['RI'])\n",
    "    y = np.array(df['Vol%']/df[\"Mass%\"])\n",
    "    z = np.polyfit(x,y,2)\n",
    "    p = np.poly1d(z)\n",
    "    #xp = np.linspace(530,1100,2000)\n",
    "    #_ = plt.plot(x,y, '.',xp,p(xp),'-')\n",
    "    #plt.ylim(0,2)\n",
    "    #plt.show()\n",
    "    return p"
   ]
  },
  {
   "cell_type": "code",
   "execution_count": 26,
   "metadata": {},
   "outputs": [],
   "source": [
    "def call_compare(*df):\n",
    "    data_counter = 0\n",
    "    for a in df:\n",
    "        data_counter += 1\n",
    "        p = call_polyfit(a)\n",
    "        print(p(550))"
   ]
  },
  {
   "cell_type": "code",
   "execution_count": 7,
   "metadata": {},
   "outputs": [],
   "source": [
    "df = call_csv('test.csv')\n",
    "IP, A, N, O, NP, UN = call_data(df)"
   ]
  },
  {
   "cell_type": "code",
   "execution_count": 32,
   "metadata": {},
   "outputs": [
    {
     "name": "stdout",
     "output_type": "stream",
     "text": [
      "0.8236132290336792\n",
      "1.1284096275244475\n"
     ]
    },
    {
     "ename": "IndexError",
     "evalue": "too many indices for array",
     "output_type": "error",
     "traceback": [
      "\u001b[1;31m---------------------------------------------------------------------------\u001b[0m",
      "\u001b[1;31mIndexError\u001b[0m                                Traceback (most recent call last)",
      "\u001b[1;32m<ipython-input-32-6d6f7aeb74c7>\u001b[0m in \u001b[0;36m<module>\u001b[1;34m()\u001b[0m\n\u001b[1;32m----> 1\u001b[1;33m \u001b[0mnp\u001b[0m\u001b[1;33m.\u001b[0m\u001b[0marray\u001b[0m\u001b[1;33m(\u001b[0m\u001b[0mcall_compare\u001b[0m\u001b[1;33m(\u001b[0m\u001b[0mA\u001b[0m\u001b[1;33m,\u001b[0m \u001b[0mIP\u001b[0m\u001b[1;33m)\u001b[0m\u001b[1;33m)\u001b[0m\u001b[1;33m[\u001b[0m\u001b[1;36m1\u001b[0m\u001b[1;33m]\u001b[0m\u001b[1;33m\u001b[0m\u001b[0m\n\u001b[0m",
      "\u001b[1;31mIndexError\u001b[0m: too many indices for array"
     ]
    }
   ],
   "source": [
    "np.array(call_compare(A, IP))[1]"
   ]
  }
 ],
 "metadata": {
  "kernelspec": {
   "display_name": "Python 3",
   "language": "python",
   "name": "python3"
  },
  "language_info": {
   "codemirror_mode": {
    "name": "ipython",
    "version": 3
   },
   "file_extension": ".py",
   "mimetype": "text/x-python",
   "name": "python",
   "nbconvert_exporter": "python",
   "pygments_lexer": "ipython3",
   "version": "3.6.6"
  }
 },
 "nbformat": 4,
 "nbformat_minor": 2
}
